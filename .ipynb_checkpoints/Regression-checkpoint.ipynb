{
 "cells": [
  {
   "cell_type": "code",
   "execution_count": 1,
   "metadata": {},
   "outputs": [],
   "source": [
    "#Import libraries for evaluation\n",
    "import pandas as pd\n",
    "import numpy as np\n",
    " \n",
    "\n",
    "#Import libraries for Visualization\n",
    "import matplotlib.pyplot as plt\n",
    "import seaborn as sns\n",
    "\n",
    "#import libraries for Machine Learning\n",
    "from sklearn.model_selection import train_test_split\n"
   ]
  },
  {
   "cell_type": "code",
   "execution_count": 2,
   "metadata": {},
   "outputs": [],
   "source": [
    "df = pd.read_csv(\"StudentsPerformance.csv\")"
   ]
  },
  {
   "cell_type": "code",
   "execution_count": 3,
   "metadata": {},
   "outputs": [
    {
     "data": {
      "text/plain": [
       "gender                         0\n",
       "race/ethnicity                 0\n",
       "parental level of education    0\n",
       "lunch                          0\n",
       "test preparation course        0\n",
       "math score                     0\n",
       "reading score                  0\n",
       "writing score                  0\n",
       "dtype: int64"
      ]
     },
     "execution_count": 3,
     "metadata": {},
     "output_type": "execute_result"
    }
   ],
   "source": [
    "df.isnull().sum()"
   ]
  },
  {
   "cell_type": "code",
   "execution_count": 4,
   "metadata": {},
   "outputs": [
    {
     "data": {
      "text/html": [
       "<div>\n",
       "<style scoped>\n",
       "    .dataframe tbody tr th:only-of-type {\n",
       "        vertical-align: middle;\n",
       "    }\n",
       "\n",
       "    .dataframe tbody tr th {\n",
       "        vertical-align: top;\n",
       "    }\n",
       "\n",
       "    .dataframe thead th {\n",
       "        text-align: right;\n",
       "    }\n",
       "</style>\n",
       "<table border=\"1\" class=\"dataframe\">\n",
       "  <thead>\n",
       "    <tr style=\"text-align: right;\">\n",
       "      <th></th>\n",
       "      <th>math score</th>\n",
       "      <th>reading score</th>\n",
       "      <th>writing score</th>\n",
       "    </tr>\n",
       "  </thead>\n",
       "  <tbody>\n",
       "    <tr>\n",
       "      <th>math score</th>\n",
       "      <td>1.000000</td>\n",
       "      <td>0.817580</td>\n",
       "      <td>0.802642</td>\n",
       "    </tr>\n",
       "    <tr>\n",
       "      <th>reading score</th>\n",
       "      <td>0.817580</td>\n",
       "      <td>1.000000</td>\n",
       "      <td>0.954598</td>\n",
       "    </tr>\n",
       "    <tr>\n",
       "      <th>writing score</th>\n",
       "      <td>0.802642</td>\n",
       "      <td>0.954598</td>\n",
       "      <td>1.000000</td>\n",
       "    </tr>\n",
       "  </tbody>\n",
       "</table>\n",
       "</div>"
      ],
      "text/plain": [
       "               math score  reading score  writing score\n",
       "math score       1.000000       0.817580       0.802642\n",
       "reading score    0.817580       1.000000       0.954598\n",
       "writing score    0.802642       0.954598       1.000000"
      ]
     },
     "execution_count": 4,
     "metadata": {},
     "output_type": "execute_result"
    }
   ],
   "source": [
    "df.corr()"
   ]
  },
  {
   "cell_type": "code",
   "execution_count": 5,
   "metadata": {},
   "outputs": [
    {
     "data": {
      "text/html": [
       "<div>\n",
       "<style scoped>\n",
       "    .dataframe tbody tr th:only-of-type {\n",
       "        vertical-align: middle;\n",
       "    }\n",
       "\n",
       "    .dataframe tbody tr th {\n",
       "        vertical-align: top;\n",
       "    }\n",
       "\n",
       "    .dataframe thead th {\n",
       "        text-align: right;\n",
       "    }\n",
       "</style>\n",
       "<table border=\"1\" class=\"dataframe\">\n",
       "  <thead>\n",
       "    <tr style=\"text-align: right;\">\n",
       "      <th></th>\n",
       "      <th>gender</th>\n",
       "      <th>race/ethnicity</th>\n",
       "      <th>parental level of education</th>\n",
       "      <th>lunch</th>\n",
       "      <th>test preparation course</th>\n",
       "      <th>math score</th>\n",
       "      <th>reading score</th>\n",
       "      <th>writing score</th>\n",
       "    </tr>\n",
       "  </thead>\n",
       "  <tbody>\n",
       "    <tr>\n",
       "      <th>0</th>\n",
       "      <td>female</td>\n",
       "      <td>group B</td>\n",
       "      <td>bachelor's degree</td>\n",
       "      <td>standard</td>\n",
       "      <td>none</td>\n",
       "      <td>72</td>\n",
       "      <td>72</td>\n",
       "      <td>74</td>\n",
       "    </tr>\n",
       "    <tr>\n",
       "      <th>1</th>\n",
       "      <td>female</td>\n",
       "      <td>group C</td>\n",
       "      <td>some college</td>\n",
       "      <td>standard</td>\n",
       "      <td>completed</td>\n",
       "      <td>69</td>\n",
       "      <td>90</td>\n",
       "      <td>88</td>\n",
       "    </tr>\n",
       "    <tr>\n",
       "      <th>2</th>\n",
       "      <td>female</td>\n",
       "      <td>group B</td>\n",
       "      <td>master's degree</td>\n",
       "      <td>standard</td>\n",
       "      <td>none</td>\n",
       "      <td>90</td>\n",
       "      <td>95</td>\n",
       "      <td>93</td>\n",
       "    </tr>\n",
       "    <tr>\n",
       "      <th>3</th>\n",
       "      <td>male</td>\n",
       "      <td>group A</td>\n",
       "      <td>associate's degree</td>\n",
       "      <td>free/reduced</td>\n",
       "      <td>none</td>\n",
       "      <td>47</td>\n",
       "      <td>57</td>\n",
       "      <td>44</td>\n",
       "    </tr>\n",
       "    <tr>\n",
       "      <th>4</th>\n",
       "      <td>male</td>\n",
       "      <td>group C</td>\n",
       "      <td>some college</td>\n",
       "      <td>standard</td>\n",
       "      <td>none</td>\n",
       "      <td>76</td>\n",
       "      <td>78</td>\n",
       "      <td>75</td>\n",
       "    </tr>\n",
       "  </tbody>\n",
       "</table>\n",
       "</div>"
      ],
      "text/plain": [
       "   gender race/ethnicity parental level of education         lunch  \\\n",
       "0  female        group B           bachelor's degree      standard   \n",
       "1  female        group C                some college      standard   \n",
       "2  female        group B             master's degree      standard   \n",
       "3    male        group A          associate's degree  free/reduced   \n",
       "4    male        group C                some college      standard   \n",
       "\n",
       "  test preparation course  math score  reading score  writing score  \n",
       "0                    none          72             72             74  \n",
       "1               completed          69             90             88  \n",
       "2                    none          90             95             93  \n",
       "3                    none          47             57             44  \n",
       "4                    none          76             78             75  "
      ]
     },
     "execution_count": 5,
     "metadata": {},
     "output_type": "execute_result"
    }
   ],
   "source": [
    "df.head()"
   ]
  },
  {
   "cell_type": "code",
   "execution_count": 6,
   "metadata": {},
   "outputs": [],
   "source": [
    "df['Ismale']= np.where(df.gender== 'male',1,0)"
   ]
  },
  {
   "cell_type": "code",
   "execution_count": 7,
   "metadata": {},
   "outputs": [
    {
     "name": "stdout",
     "output_type": "stream",
     "text": [
      "<class 'pandas.core.frame.DataFrame'>\n",
      "RangeIndex: 1000 entries, 0 to 999\n",
      "Data columns (total 9 columns):\n",
      " #   Column                       Non-Null Count  Dtype \n",
      "---  ------                       --------------  ----- \n",
      " 0   gender                       1000 non-null   object\n",
      " 1   race/ethnicity               1000 non-null   object\n",
      " 2   parental level of education  1000 non-null   object\n",
      " 3   lunch                        1000 non-null   object\n",
      " 4   test preparation course      1000 non-null   object\n",
      " 5   math score                   1000 non-null   int64 \n",
      " 6   reading score                1000 non-null   int64 \n",
      " 7   writing score                1000 non-null   int64 \n",
      " 8   Ismale                       1000 non-null   int32 \n",
      "dtypes: int32(1), int64(3), object(5)\n",
      "memory usage: 66.5+ KB\n"
     ]
    }
   ],
   "source": [
    "df.info()"
   ]
  },
  {
   "cell_type": "code",
   "execution_count": 8,
   "metadata": {},
   "outputs": [
    {
     "data": {
      "text/plain": [
       "standard        645\n",
       "free/reduced    355\n",
       "Name: lunch, dtype: int64"
      ]
     },
     "execution_count": 8,
     "metadata": {},
     "output_type": "execute_result"
    }
   ],
   "source": [
    "df['lunch'].value_counts()"
   ]
  },
  {
   "cell_type": "code",
   "execution_count": 9,
   "metadata": {},
   "outputs": [
    {
     "name": "stdout",
     "output_type": "stream",
     "text": [
      "<class 'pandas.core.frame.DataFrame'>\n",
      "RangeIndex: 1000 entries, 0 to 999\n",
      "Data columns (total 9 columns):\n",
      " #   Column                       Non-Null Count  Dtype \n",
      "---  ------                       --------------  ----- \n",
      " 0   gender                       1000 non-null   object\n",
      " 1   race/ethnicity               1000 non-null   object\n",
      " 2   parental level of education  1000 non-null   object\n",
      " 3   lunch                        1000 non-null   object\n",
      " 4   test preparation course      1000 non-null   object\n",
      " 5   math score                   1000 non-null   int64 \n",
      " 6   reading score                1000 non-null   int64 \n",
      " 7   writing score                1000 non-null   int64 \n",
      " 8   Ismale                       1000 non-null   int32 \n",
      "dtypes: int32(1), int64(3), object(5)\n",
      "memory usage: 66.5+ KB\n"
     ]
    }
   ],
   "source": [
    "df.info()"
   ]
  },
  {
   "cell_type": "code",
   "execution_count": 10,
   "metadata": {},
   "outputs": [],
   "source": [
    "df['standardlunch']=np.where(df.lunch == 'standard',1,0)"
   ]
  },
  {
   "cell_type": "code",
   "execution_count": 11,
   "metadata": {},
   "outputs": [
    {
     "name": "stdout",
     "output_type": "stream",
     "text": [
      "<class 'pandas.core.frame.DataFrame'>\n",
      "RangeIndex: 1000 entries, 0 to 999\n",
      "Data columns (total 10 columns):\n",
      " #   Column                       Non-Null Count  Dtype \n",
      "---  ------                       --------------  ----- \n",
      " 0   gender                       1000 non-null   object\n",
      " 1   race/ethnicity               1000 non-null   object\n",
      " 2   parental level of education  1000 non-null   object\n",
      " 3   lunch                        1000 non-null   object\n",
      " 4   test preparation course      1000 non-null   object\n",
      " 5   math score                   1000 non-null   int64 \n",
      " 6   reading score                1000 non-null   int64 \n",
      " 7   writing score                1000 non-null   int64 \n",
      " 8   Ismale                       1000 non-null   int32 \n",
      " 9   standardlunch                1000 non-null   int32 \n",
      "dtypes: int32(2), int64(3), object(5)\n",
      "memory usage: 70.4+ KB\n"
     ]
    }
   ],
   "source": [
    "df.info()"
   ]
  },
  {
   "cell_type": "code",
   "execution_count": 12,
   "metadata": {},
   "outputs": [
    {
     "data": {
      "text/plain": [
       "group C    319\n",
       "group D    262\n",
       "group B    190\n",
       "group E    140\n",
       "group A     89\n",
       "Name: race/ethnicity, dtype: int64"
      ]
     },
     "execution_count": 12,
     "metadata": {},
     "output_type": "execute_result"
    }
   ],
   "source": [
    "df['race/ethnicity'].value_counts()"
   ]
  },
  {
   "cell_type": "code",
   "execution_count": 13,
   "metadata": {},
   "outputs": [
    {
     "data": {
      "text/plain": [
       "none         642\n",
       "completed    358\n",
       "Name: test preparation course, dtype: int64"
      ]
     },
     "execution_count": 13,
     "metadata": {},
     "output_type": "execute_result"
    }
   ],
   "source": [
    "df['test preparation course'].value_counts()"
   ]
  },
  {
   "cell_type": "code",
   "execution_count": 14,
   "metadata": {},
   "outputs": [],
   "source": [
    "df['course_preparation'] = np.where(df['test preparation course'] == 'none',1,0)"
   ]
  },
  {
   "cell_type": "code",
   "execution_count": 15,
   "metadata": {},
   "outputs": [
    {
     "name": "stdout",
     "output_type": "stream",
     "text": [
      "<class 'pandas.core.frame.DataFrame'>\n",
      "RangeIndex: 1000 entries, 0 to 999\n",
      "Data columns (total 11 columns):\n",
      " #   Column                       Non-Null Count  Dtype \n",
      "---  ------                       --------------  ----- \n",
      " 0   gender                       1000 non-null   object\n",
      " 1   race/ethnicity               1000 non-null   object\n",
      " 2   parental level of education  1000 non-null   object\n",
      " 3   lunch                        1000 non-null   object\n",
      " 4   test preparation course      1000 non-null   object\n",
      " 5   math score                   1000 non-null   int64 \n",
      " 6   reading score                1000 non-null   int64 \n",
      " 7   writing score                1000 non-null   int64 \n",
      " 8   Ismale                       1000 non-null   int32 \n",
      " 9   standardlunch                1000 non-null   int32 \n",
      " 10  course_preparation           1000 non-null   int32 \n",
      "dtypes: int32(3), int64(3), object(5)\n",
      "memory usage: 74.3+ KB\n"
     ]
    }
   ],
   "source": [
    "df.info()"
   ]
  },
  {
   "cell_type": "code",
   "execution_count": 16,
   "metadata": {},
   "outputs": [],
   "source": [
    "df.drop(['gender','lunch','test preparation course'], axis= 1, inplace=True)"
   ]
  },
  {
   "cell_type": "code",
   "execution_count": 17,
   "metadata": {},
   "outputs": [
    {
     "name": "stdout",
     "output_type": "stream",
     "text": [
      "<class 'pandas.core.frame.DataFrame'>\n",
      "RangeIndex: 1000 entries, 0 to 999\n",
      "Data columns (total 8 columns):\n",
      " #   Column                       Non-Null Count  Dtype \n",
      "---  ------                       --------------  ----- \n",
      " 0   race/ethnicity               1000 non-null   object\n",
      " 1   parental level of education  1000 non-null   object\n",
      " 2   math score                   1000 non-null   int64 \n",
      " 3   reading score                1000 non-null   int64 \n",
      " 4   writing score                1000 non-null   int64 \n",
      " 5   Ismale                       1000 non-null   int32 \n",
      " 6   standardlunch                1000 non-null   int32 \n",
      " 7   course_preparation           1000 non-null   int32 \n",
      "dtypes: int32(3), int64(3), object(2)\n",
      "memory usage: 50.9+ KB\n"
     ]
    }
   ],
   "source": [
    "df.info()"
   ]
  },
  {
   "cell_type": "code",
   "execution_count": 18,
   "metadata": {},
   "outputs": [
    {
     "data": {
      "text/plain": [
       "some college          226\n",
       "associate's degree    222\n",
       "high school           196\n",
       "some high school      179\n",
       "bachelor's degree     118\n",
       "master's degree        59\n",
       "Name: parental level of education, dtype: int64"
      ]
     },
     "execution_count": 18,
     "metadata": {},
     "output_type": "execute_result"
    }
   ],
   "source": [
    "df['parental level of education'].value_counts()"
   ]
  },
  {
   "cell_type": "code",
   "execution_count": 19,
   "metadata": {},
   "outputs": [],
   "source": [
    "df = pd.get_dummies(df,columns=['race/ethnicity','parental level of education'])"
   ]
  },
  {
   "cell_type": "code",
   "execution_count": 20,
   "metadata": {},
   "outputs": [
    {
     "name": "stdout",
     "output_type": "stream",
     "text": [
      "<class 'pandas.core.frame.DataFrame'>\n",
      "RangeIndex: 1000 entries, 0 to 999\n",
      "Data columns (total 17 columns):\n",
      " #   Column                                          Non-Null Count  Dtype\n",
      "---  ------                                          --------------  -----\n",
      " 0   math score                                      1000 non-null   int64\n",
      " 1   reading score                                   1000 non-null   int64\n",
      " 2   writing score                                   1000 non-null   int64\n",
      " 3   Ismale                                          1000 non-null   int32\n",
      " 4   standardlunch                                   1000 non-null   int32\n",
      " 5   course_preparation                              1000 non-null   int32\n",
      " 6   race/ethnicity_group A                          1000 non-null   uint8\n",
      " 7   race/ethnicity_group B                          1000 non-null   uint8\n",
      " 8   race/ethnicity_group C                          1000 non-null   uint8\n",
      " 9   race/ethnicity_group D                          1000 non-null   uint8\n",
      " 10  race/ethnicity_group E                          1000 non-null   uint8\n",
      " 11  parental level of education_associate's degree  1000 non-null   uint8\n",
      " 12  parental level of education_bachelor's degree   1000 non-null   uint8\n",
      " 13  parental level of education_high school         1000 non-null   uint8\n",
      " 14  parental level of education_master's degree     1000 non-null   uint8\n",
      " 15  parental level of education_some college        1000 non-null   uint8\n",
      " 16  parental level of education_some high school    1000 non-null   uint8\n",
      "dtypes: int32(3), int64(3), uint8(11)\n",
      "memory usage: 46.0 KB\n"
     ]
    }
   ],
   "source": [
    "df.info()"
   ]
  },
  {
   "cell_type": "code",
   "execution_count": 21,
   "metadata": {},
   "outputs": [
    {
     "data": {
      "text/html": [
       "<div>\n",
       "<style scoped>\n",
       "    .dataframe tbody tr th:only-of-type {\n",
       "        vertical-align: middle;\n",
       "    }\n",
       "\n",
       "    .dataframe tbody tr th {\n",
       "        vertical-align: top;\n",
       "    }\n",
       "\n",
       "    .dataframe thead th {\n",
       "        text-align: right;\n",
       "    }\n",
       "</style>\n",
       "<table border=\"1\" class=\"dataframe\">\n",
       "  <thead>\n",
       "    <tr style=\"text-align: right;\">\n",
       "      <th></th>\n",
       "      <th>math score</th>\n",
       "      <th>reading score</th>\n",
       "      <th>writing score</th>\n",
       "      <th>Ismale</th>\n",
       "      <th>standardlunch</th>\n",
       "      <th>course_preparation</th>\n",
       "      <th>race/ethnicity_group A</th>\n",
       "      <th>race/ethnicity_group B</th>\n",
       "      <th>race/ethnicity_group C</th>\n",
       "      <th>race/ethnicity_group D</th>\n",
       "      <th>race/ethnicity_group E</th>\n",
       "      <th>parental level of education_associate's degree</th>\n",
       "      <th>parental level of education_bachelor's degree</th>\n",
       "      <th>parental level of education_high school</th>\n",
       "      <th>parental level of education_master's degree</th>\n",
       "      <th>parental level of education_some college</th>\n",
       "      <th>parental level of education_some high school</th>\n",
       "    </tr>\n",
       "  </thead>\n",
       "  <tbody>\n",
       "    <tr>\n",
       "      <th>0</th>\n",
       "      <td>72</td>\n",
       "      <td>72</td>\n",
       "      <td>74</td>\n",
       "      <td>0</td>\n",
       "      <td>1</td>\n",
       "      <td>1</td>\n",
       "      <td>0</td>\n",
       "      <td>1</td>\n",
       "      <td>0</td>\n",
       "      <td>0</td>\n",
       "      <td>0</td>\n",
       "      <td>0</td>\n",
       "      <td>1</td>\n",
       "      <td>0</td>\n",
       "      <td>0</td>\n",
       "      <td>0</td>\n",
       "      <td>0</td>\n",
       "    </tr>\n",
       "    <tr>\n",
       "      <th>1</th>\n",
       "      <td>69</td>\n",
       "      <td>90</td>\n",
       "      <td>88</td>\n",
       "      <td>0</td>\n",
       "      <td>1</td>\n",
       "      <td>0</td>\n",
       "      <td>0</td>\n",
       "      <td>0</td>\n",
       "      <td>1</td>\n",
       "      <td>0</td>\n",
       "      <td>0</td>\n",
       "      <td>0</td>\n",
       "      <td>0</td>\n",
       "      <td>0</td>\n",
       "      <td>0</td>\n",
       "      <td>1</td>\n",
       "      <td>0</td>\n",
       "    </tr>\n",
       "    <tr>\n",
       "      <th>2</th>\n",
       "      <td>90</td>\n",
       "      <td>95</td>\n",
       "      <td>93</td>\n",
       "      <td>0</td>\n",
       "      <td>1</td>\n",
       "      <td>1</td>\n",
       "      <td>0</td>\n",
       "      <td>1</td>\n",
       "      <td>0</td>\n",
       "      <td>0</td>\n",
       "      <td>0</td>\n",
       "      <td>0</td>\n",
       "      <td>0</td>\n",
       "      <td>0</td>\n",
       "      <td>1</td>\n",
       "      <td>0</td>\n",
       "      <td>0</td>\n",
       "    </tr>\n",
       "    <tr>\n",
       "      <th>3</th>\n",
       "      <td>47</td>\n",
       "      <td>57</td>\n",
       "      <td>44</td>\n",
       "      <td>1</td>\n",
       "      <td>0</td>\n",
       "      <td>1</td>\n",
       "      <td>1</td>\n",
       "      <td>0</td>\n",
       "      <td>0</td>\n",
       "      <td>0</td>\n",
       "      <td>0</td>\n",
       "      <td>1</td>\n",
       "      <td>0</td>\n",
       "      <td>0</td>\n",
       "      <td>0</td>\n",
       "      <td>0</td>\n",
       "      <td>0</td>\n",
       "    </tr>\n",
       "    <tr>\n",
       "      <th>4</th>\n",
       "      <td>76</td>\n",
       "      <td>78</td>\n",
       "      <td>75</td>\n",
       "      <td>1</td>\n",
       "      <td>1</td>\n",
       "      <td>1</td>\n",
       "      <td>0</td>\n",
       "      <td>0</td>\n",
       "      <td>1</td>\n",
       "      <td>0</td>\n",
       "      <td>0</td>\n",
       "      <td>0</td>\n",
       "      <td>0</td>\n",
       "      <td>0</td>\n",
       "      <td>0</td>\n",
       "      <td>1</td>\n",
       "      <td>0</td>\n",
       "    </tr>\n",
       "  </tbody>\n",
       "</table>\n",
       "</div>"
      ],
      "text/plain": [
       "   math score  reading score  writing score  Ismale  standardlunch  \\\n",
       "0          72             72             74       0              1   \n",
       "1          69             90             88       0              1   \n",
       "2          90             95             93       0              1   \n",
       "3          47             57             44       1              0   \n",
       "4          76             78             75       1              1   \n",
       "\n",
       "   course_preparation  race/ethnicity_group A  race/ethnicity_group B  \\\n",
       "0                   1                       0                       1   \n",
       "1                   0                       0                       0   \n",
       "2                   1                       0                       1   \n",
       "3                   1                       1                       0   \n",
       "4                   1                       0                       0   \n",
       "\n",
       "   race/ethnicity_group C  race/ethnicity_group D  race/ethnicity_group E  \\\n",
       "0                       0                       0                       0   \n",
       "1                       1                       0                       0   \n",
       "2                       0                       0                       0   \n",
       "3                       0                       0                       0   \n",
       "4                       1                       0                       0   \n",
       "\n",
       "   parental level of education_associate's degree  \\\n",
       "0                                               0   \n",
       "1                                               0   \n",
       "2                                               0   \n",
       "3                                               1   \n",
       "4                                               0   \n",
       "\n",
       "   parental level of education_bachelor's degree  \\\n",
       "0                                              1   \n",
       "1                                              0   \n",
       "2                                              0   \n",
       "3                                              0   \n",
       "4                                              0   \n",
       "\n",
       "   parental level of education_high school  \\\n",
       "0                                        0   \n",
       "1                                        0   \n",
       "2                                        0   \n",
       "3                                        0   \n",
       "4                                        0   \n",
       "\n",
       "   parental level of education_master's degree  \\\n",
       "0                                            0   \n",
       "1                                            0   \n",
       "2                                            1   \n",
       "3                                            0   \n",
       "4                                            0   \n",
       "\n",
       "   parental level of education_some college  \\\n",
       "0                                         0   \n",
       "1                                         1   \n",
       "2                                         0   \n",
       "3                                         0   \n",
       "4                                         1   \n",
       "\n",
       "   parental level of education_some high school  \n",
       "0                                             0  \n",
       "1                                             0  \n",
       "2                                             0  \n",
       "3                                             0  \n",
       "4                                             0  "
      ]
     },
     "execution_count": 21,
     "metadata": {},
     "output_type": "execute_result"
    }
   ],
   "source": [
    "df.head()"
   ]
  },
  {
   "cell_type": "code",
   "execution_count": 22,
   "metadata": {},
   "outputs": [
    {
     "data": {
      "text/html": [
       "<div>\n",
       "<style scoped>\n",
       "    .dataframe tbody tr th:only-of-type {\n",
       "        vertical-align: middle;\n",
       "    }\n",
       "\n",
       "    .dataframe tbody tr th {\n",
       "        vertical-align: top;\n",
       "    }\n",
       "\n",
       "    .dataframe thead th {\n",
       "        text-align: right;\n",
       "    }\n",
       "</style>\n",
       "<table border=\"1\" class=\"dataframe\">\n",
       "  <thead>\n",
       "    <tr style=\"text-align: right;\">\n",
       "      <th></th>\n",
       "      <th>math score</th>\n",
       "      <th>reading score</th>\n",
       "      <th>writing score</th>\n",
       "      <th>Ismale</th>\n",
       "      <th>standardlunch</th>\n",
       "      <th>course_preparation</th>\n",
       "      <th>race/ethnicity_group A</th>\n",
       "      <th>race/ethnicity_group B</th>\n",
       "      <th>race/ethnicity_group C</th>\n",
       "      <th>race/ethnicity_group D</th>\n",
       "      <th>race/ethnicity_group E</th>\n",
       "      <th>parental level of education_associate's degree</th>\n",
       "      <th>parental level of education_bachelor's degree</th>\n",
       "      <th>parental level of education_high school</th>\n",
       "      <th>parental level of education_master's degree</th>\n",
       "      <th>parental level of education_some college</th>\n",
       "      <th>parental level of education_some high school</th>\n",
       "    </tr>\n",
       "  </thead>\n",
       "  <tbody>\n",
       "    <tr>\n",
       "      <th>math score</th>\n",
       "      <td>1.000000</td>\n",
       "      <td>0.817580</td>\n",
       "      <td>0.802642</td>\n",
       "      <td>0.167982</td>\n",
       "      <td>0.350877</td>\n",
       "      <td>-0.177702</td>\n",
       "      <td>-0.091977</td>\n",
       "      <td>-0.084250</td>\n",
       "      <td>-0.073387</td>\n",
       "      <td>0.050071</td>\n",
       "      <td>0.205855</td>\n",
       "      <td>0.063228</td>\n",
       "      <td>0.079664</td>\n",
       "      <td>-0.128725</td>\n",
       "      <td>0.060417</td>\n",
       "      <td>0.037056</td>\n",
       "      <td>-0.079852</td>\n",
       "    </tr>\n",
       "    <tr>\n",
       "      <th>reading score</th>\n",
       "      <td>0.817580</td>\n",
       "      <td>1.000000</td>\n",
       "      <td>0.954598</td>\n",
       "      <td>-0.244313</td>\n",
       "      <td>0.229560</td>\n",
       "      <td>-0.241780</td>\n",
       "      <td>-0.096274</td>\n",
       "      <td>-0.060283</td>\n",
       "      <td>-0.003074</td>\n",
       "      <td>0.035177</td>\n",
       "      <td>0.106712</td>\n",
       "      <td>0.064386</td>\n",
       "      <td>0.096024</td>\n",
       "      <td>-0.151068</td>\n",
       "      <td>0.106452</td>\n",
       "      <td>0.010782</td>\n",
       "      <td>-0.071369</td>\n",
       "    </tr>\n",
       "    <tr>\n",
       "      <th>writing score</th>\n",
       "      <td>0.802642</td>\n",
       "      <td>0.954598</td>\n",
       "      <td>1.000000</td>\n",
       "      <td>-0.301225</td>\n",
       "      <td>0.245769</td>\n",
       "      <td>-0.312946</td>\n",
       "      <td>-0.110714</td>\n",
       "      <td>-0.078254</td>\n",
       "      <td>-0.010203</td>\n",
       "      <td>0.082032</td>\n",
       "      <td>0.089077</td>\n",
       "      <td>0.064799</td>\n",
       "      <td>0.128297</td>\n",
       "      <td>-0.182211</td>\n",
       "      <td>0.125693</td>\n",
       "      <td>0.027989</td>\n",
       "      <td>-0.097326</td>\n",
       "    </tr>\n",
       "    <tr>\n",
       "      <th>Ismale</th>\n",
       "      <td>0.167982</td>\n",
       "      <td>-0.244313</td>\n",
       "      <td>-0.301225</td>\n",
       "      <td>1.000000</td>\n",
       "      <td>0.021372</td>\n",
       "      <td>-0.006028</td>\n",
       "      <td>0.071001</td>\n",
       "      <td>-0.028466</td>\n",
       "      <td>-0.063368</td>\n",
       "      <td>0.030566</td>\n",
       "      <td>0.020302</td>\n",
       "      <td>-0.004835</td>\n",
       "      <td>-0.011638</td>\n",
       "      <td>0.037952</td>\n",
       "      <td>-0.046188</td>\n",
       "      <td>-0.004460</td>\n",
       "      <td>0.008990</td>\n",
       "    </tr>\n",
       "    <tr>\n",
       "      <th>standardlunch</th>\n",
       "      <td>0.350877</td>\n",
       "      <td>0.229560</td>\n",
       "      <td>0.245769</td>\n",
       "      <td>0.021372</td>\n",
       "      <td>1.000000</td>\n",
       "      <td>0.017044</td>\n",
       "      <td>-0.032329</td>\n",
       "      <td>-0.008257</td>\n",
       "      <td>-0.003385</td>\n",
       "      <td>-0.009458</td>\n",
       "      <td>0.052398</td>\n",
       "      <td>0.009102</td>\n",
       "      <td>-0.013668</td>\n",
       "      <td>-0.002211</td>\n",
       "      <td>-0.027095</td>\n",
       "      <td>0.006146</td>\n",
       "      <td>0.013874</td>\n",
       "    </tr>\n",
       "    <tr>\n",
       "      <th>course_preparation</th>\n",
       "      <td>-0.177702</td>\n",
       "      <td>-0.241780</td>\n",
       "      <td>-0.312946</td>\n",
       "      <td>-0.006028</td>\n",
       "      <td>0.017044</td>\n",
       "      <td>1.000000</td>\n",
       "      <td>0.006315</td>\n",
       "      <td>0.000106</td>\n",
       "      <td>-0.012522</td>\n",
       "      <td>0.055956</td>\n",
       "      <td>-0.059393</td>\n",
       "      <td>-0.012668</td>\n",
       "      <td>-0.024285</td>\n",
       "      <td>0.074446</td>\n",
       "      <td>0.009933</td>\n",
       "      <td>0.019490</td>\n",
       "      <td>-0.070289</td>\n",
       "    </tr>\n",
       "    <tr>\n",
       "      <th>race/ethnicity_group A</th>\n",
       "      <td>-0.091977</td>\n",
       "      <td>-0.096274</td>\n",
       "      <td>-0.110714</td>\n",
       "      <td>0.071001</td>\n",
       "      <td>-0.032329</td>\n",
       "      <td>0.006315</td>\n",
       "      <td>1.000000</td>\n",
       "      <td>-0.151381</td>\n",
       "      <td>-0.213923</td>\n",
       "      <td>-0.186234</td>\n",
       "      <td>-0.126110</td>\n",
       "      <td>-0.048658</td>\n",
       "      <td>0.016307</td>\n",
       "      <td>0.004919</td>\n",
       "      <td>-0.033551</td>\n",
       "      <td>-0.017751</td>\n",
       "      <td>0.073921</td>\n",
       "    </tr>\n",
       "    <tr>\n",
       "      <th>race/ethnicity_group B</th>\n",
       "      <td>-0.084250</td>\n",
       "      <td>-0.060283</td>\n",
       "      <td>-0.078254</td>\n",
       "      <td>-0.028466</td>\n",
       "      <td>-0.008257</td>\n",
       "      <td>0.000106</td>\n",
       "      <td>-0.151381</td>\n",
       "      <td>1.000000</td>\n",
       "      <td>-0.331479</td>\n",
       "      <td>-0.288574</td>\n",
       "      <td>-0.195411</td>\n",
       "      <td>-0.007238</td>\n",
       "      <td>-0.019121</td>\n",
       "      <td>0.069093</td>\n",
       "      <td>-0.056363</td>\n",
       "      <td>-0.036203</td>\n",
       "      <td>0.026531</td>\n",
       "    </tr>\n",
       "    <tr>\n",
       "      <th>race/ethnicity_group C</th>\n",
       "      <td>-0.073387</td>\n",
       "      <td>-0.003074</td>\n",
       "      <td>-0.010203</td>\n",
       "      <td>-0.063368</td>\n",
       "      <td>-0.003385</td>\n",
       "      <td>-0.012522</td>\n",
       "      <td>-0.213923</td>\n",
       "      <td>-0.331479</td>\n",
       "      <td>1.000000</td>\n",
       "      <td>-0.407797</td>\n",
       "      <td>-0.276145</td>\n",
       "      <td>0.037077</td>\n",
       "      <td>0.015682</td>\n",
       "      <td>0.007977</td>\n",
       "      <td>0.001630</td>\n",
       "      <td>-0.015872</td>\n",
       "      <td>-0.045339</td>\n",
       "    </tr>\n",
       "    <tr>\n",
       "      <th>race/ethnicity_group D</th>\n",
       "      <td>0.050071</td>\n",
       "      <td>0.035177</td>\n",
       "      <td>0.082032</td>\n",
       "      <td>0.030566</td>\n",
       "      <td>-0.009458</td>\n",
       "      <td>0.055956</td>\n",
       "      <td>-0.186234</td>\n",
       "      <td>-0.288574</td>\n",
       "      <td>-0.407797</td>\n",
       "      <td>1.000000</td>\n",
       "      <td>-0.240402</td>\n",
       "      <td>-0.044674</td>\n",
       "      <td>-0.020556</td>\n",
       "      <td>-0.042118</td>\n",
       "      <td>0.072793</td>\n",
       "      <td>0.042347</td>\n",
       "      <td>0.018402</td>\n",
       "    </tr>\n",
       "    <tr>\n",
       "      <th>race/ethnicity_group E</th>\n",
       "      <td>0.205855</td>\n",
       "      <td>0.106712</td>\n",
       "      <td>0.089077</td>\n",
       "      <td>0.020302</td>\n",
       "      <td>0.052398</td>\n",
       "      <td>-0.059393</td>\n",
       "      <td>-0.126110</td>\n",
       "      <td>-0.195411</td>\n",
       "      <td>-0.276145</td>\n",
       "      <td>-0.240402</td>\n",
       "      <td>1.000000</td>\n",
       "      <td>0.054922</td>\n",
       "      <td>0.013221</td>\n",
       "      <td>-0.039494</td>\n",
       "      <td>-0.003180</td>\n",
       "      <td>0.023153</td>\n",
       "      <td>-0.053075</td>\n",
       "    </tr>\n",
       "    <tr>\n",
       "      <th>parental level of education_associate's degree</th>\n",
       "      <td>0.063228</td>\n",
       "      <td>0.064386</td>\n",
       "      <td>0.064799</td>\n",
       "      <td>-0.004835</td>\n",
       "      <td>0.009102</td>\n",
       "      <td>-0.012668</td>\n",
       "      <td>-0.048658</td>\n",
       "      <td>-0.007238</td>\n",
       "      <td>0.037077</td>\n",
       "      <td>-0.044674</td>\n",
       "      <td>0.054922</td>\n",
       "      <td>1.000000</td>\n",
       "      <td>-0.195386</td>\n",
       "      <td>-0.263746</td>\n",
       "      <td>-0.133757</td>\n",
       "      <td>-0.288649</td>\n",
       "      <td>-0.249426</td>\n",
       "    </tr>\n",
       "    <tr>\n",
       "      <th>parental level of education_bachelor's degree</th>\n",
       "      <td>0.079664</td>\n",
       "      <td>0.096024</td>\n",
       "      <td>0.128297</td>\n",
       "      <td>-0.011638</td>\n",
       "      <td>-0.013668</td>\n",
       "      <td>-0.024285</td>\n",
       "      <td>0.016307</td>\n",
       "      <td>-0.019121</td>\n",
       "      <td>0.015682</td>\n",
       "      <td>-0.020556</td>\n",
       "      <td>0.013221</td>\n",
       "      <td>-0.195386</td>\n",
       "      <td>1.000000</td>\n",
       "      <td>-0.180595</td>\n",
       "      <td>-0.091588</td>\n",
       "      <td>-0.197647</td>\n",
       "      <td>-0.170790</td>\n",
       "    </tr>\n",
       "    <tr>\n",
       "      <th>parental level of education_high school</th>\n",
       "      <td>-0.128725</td>\n",
       "      <td>-0.151068</td>\n",
       "      <td>-0.182211</td>\n",
       "      <td>0.037952</td>\n",
       "      <td>-0.002211</td>\n",
       "      <td>0.074446</td>\n",
       "      <td>0.004919</td>\n",
       "      <td>0.069093</td>\n",
       "      <td>0.007977</td>\n",
       "      <td>-0.042118</td>\n",
       "      <td>-0.039494</td>\n",
       "      <td>-0.263746</td>\n",
       "      <td>-0.180595</td>\n",
       "      <td>1.000000</td>\n",
       "      <td>-0.123632</td>\n",
       "      <td>-0.266799</td>\n",
       "      <td>-0.230545</td>\n",
       "    </tr>\n",
       "    <tr>\n",
       "      <th>parental level of education_master's degree</th>\n",
       "      <td>0.060417</td>\n",
       "      <td>0.106452</td>\n",
       "      <td>0.125693</td>\n",
       "      <td>-0.046188</td>\n",
       "      <td>-0.027095</td>\n",
       "      <td>0.009933</td>\n",
       "      <td>-0.033551</td>\n",
       "      <td>-0.056363</td>\n",
       "      <td>0.001630</td>\n",
       "      <td>0.072793</td>\n",
       "      <td>-0.003180</td>\n",
       "      <td>-0.133757</td>\n",
       "      <td>-0.091588</td>\n",
       "      <td>-0.123632</td>\n",
       "      <td>1.000000</td>\n",
       "      <td>-0.135305</td>\n",
       "      <td>-0.116919</td>\n",
       "    </tr>\n",
       "    <tr>\n",
       "      <th>parental level of education_some college</th>\n",
       "      <td>0.037056</td>\n",
       "      <td>0.010782</td>\n",
       "      <td>0.027989</td>\n",
       "      <td>-0.004460</td>\n",
       "      <td>0.006146</td>\n",
       "      <td>0.019490</td>\n",
       "      <td>-0.017751</td>\n",
       "      <td>-0.036203</td>\n",
       "      <td>-0.015872</td>\n",
       "      <td>0.042347</td>\n",
       "      <td>0.023153</td>\n",
       "      <td>-0.288649</td>\n",
       "      <td>-0.197647</td>\n",
       "      <td>-0.266799</td>\n",
       "      <td>-0.135305</td>\n",
       "      <td>1.000000</td>\n",
       "      <td>-0.252312</td>\n",
       "    </tr>\n",
       "    <tr>\n",
       "      <th>parental level of education_some high school</th>\n",
       "      <td>-0.079852</td>\n",
       "      <td>-0.071369</td>\n",
       "      <td>-0.097326</td>\n",
       "      <td>0.008990</td>\n",
       "      <td>0.013874</td>\n",
       "      <td>-0.070289</td>\n",
       "      <td>0.073921</td>\n",
       "      <td>0.026531</td>\n",
       "      <td>-0.045339</td>\n",
       "      <td>0.018402</td>\n",
       "      <td>-0.053075</td>\n",
       "      <td>-0.249426</td>\n",
       "      <td>-0.170790</td>\n",
       "      <td>-0.230545</td>\n",
       "      <td>-0.116919</td>\n",
       "      <td>-0.252312</td>\n",
       "      <td>1.000000</td>\n",
       "    </tr>\n",
       "  </tbody>\n",
       "</table>\n",
       "</div>"
      ],
      "text/plain": [
       "                                                math score  reading score  \\\n",
       "math score                                        1.000000       0.817580   \n",
       "reading score                                     0.817580       1.000000   \n",
       "writing score                                     0.802642       0.954598   \n",
       "Ismale                                            0.167982      -0.244313   \n",
       "standardlunch                                     0.350877       0.229560   \n",
       "course_preparation                               -0.177702      -0.241780   \n",
       "race/ethnicity_group A                           -0.091977      -0.096274   \n",
       "race/ethnicity_group B                           -0.084250      -0.060283   \n",
       "race/ethnicity_group C                           -0.073387      -0.003074   \n",
       "race/ethnicity_group D                            0.050071       0.035177   \n",
       "race/ethnicity_group E                            0.205855       0.106712   \n",
       "parental level of education_associate's degree    0.063228       0.064386   \n",
       "parental level of education_bachelor's degree     0.079664       0.096024   \n",
       "parental level of education_high school          -0.128725      -0.151068   \n",
       "parental level of education_master's degree       0.060417       0.106452   \n",
       "parental level of education_some college          0.037056       0.010782   \n",
       "parental level of education_some high school     -0.079852      -0.071369   \n",
       "\n",
       "                                                writing score    Ismale  \\\n",
       "math score                                           0.802642  0.167982   \n",
       "reading score                                        0.954598 -0.244313   \n",
       "writing score                                        1.000000 -0.301225   \n",
       "Ismale                                              -0.301225  1.000000   \n",
       "standardlunch                                        0.245769  0.021372   \n",
       "course_preparation                                  -0.312946 -0.006028   \n",
       "race/ethnicity_group A                              -0.110714  0.071001   \n",
       "race/ethnicity_group B                              -0.078254 -0.028466   \n",
       "race/ethnicity_group C                              -0.010203 -0.063368   \n",
       "race/ethnicity_group D                               0.082032  0.030566   \n",
       "race/ethnicity_group E                               0.089077  0.020302   \n",
       "parental level of education_associate's degree       0.064799 -0.004835   \n",
       "parental level of education_bachelor's degree        0.128297 -0.011638   \n",
       "parental level of education_high school             -0.182211  0.037952   \n",
       "parental level of education_master's degree          0.125693 -0.046188   \n",
       "parental level of education_some college             0.027989 -0.004460   \n",
       "parental level of education_some high school        -0.097326  0.008990   \n",
       "\n",
       "                                                standardlunch  \\\n",
       "math score                                           0.350877   \n",
       "reading score                                        0.229560   \n",
       "writing score                                        0.245769   \n",
       "Ismale                                               0.021372   \n",
       "standardlunch                                        1.000000   \n",
       "course_preparation                                   0.017044   \n",
       "race/ethnicity_group A                              -0.032329   \n",
       "race/ethnicity_group B                              -0.008257   \n",
       "race/ethnicity_group C                              -0.003385   \n",
       "race/ethnicity_group D                              -0.009458   \n",
       "race/ethnicity_group E                               0.052398   \n",
       "parental level of education_associate's degree       0.009102   \n",
       "parental level of education_bachelor's degree       -0.013668   \n",
       "parental level of education_high school             -0.002211   \n",
       "parental level of education_master's degree         -0.027095   \n",
       "parental level of education_some college             0.006146   \n",
       "parental level of education_some high school         0.013874   \n",
       "\n",
       "                                                course_preparation  \\\n",
       "math score                                               -0.177702   \n",
       "reading score                                            -0.241780   \n",
       "writing score                                            -0.312946   \n",
       "Ismale                                                   -0.006028   \n",
       "standardlunch                                             0.017044   \n",
       "course_preparation                                        1.000000   \n",
       "race/ethnicity_group A                                    0.006315   \n",
       "race/ethnicity_group B                                    0.000106   \n",
       "race/ethnicity_group C                                   -0.012522   \n",
       "race/ethnicity_group D                                    0.055956   \n",
       "race/ethnicity_group E                                   -0.059393   \n",
       "parental level of education_associate's degree           -0.012668   \n",
       "parental level of education_bachelor's degree            -0.024285   \n",
       "parental level of education_high school                   0.074446   \n",
       "parental level of education_master's degree               0.009933   \n",
       "parental level of education_some college                  0.019490   \n",
       "parental level of education_some high school             -0.070289   \n",
       "\n",
       "                                                race/ethnicity_group A  \\\n",
       "math score                                                   -0.091977   \n",
       "reading score                                                -0.096274   \n",
       "writing score                                                -0.110714   \n",
       "Ismale                                                        0.071001   \n",
       "standardlunch                                                -0.032329   \n",
       "course_preparation                                            0.006315   \n",
       "race/ethnicity_group A                                        1.000000   \n",
       "race/ethnicity_group B                                       -0.151381   \n",
       "race/ethnicity_group C                                       -0.213923   \n",
       "race/ethnicity_group D                                       -0.186234   \n",
       "race/ethnicity_group E                                       -0.126110   \n",
       "parental level of education_associate's degree               -0.048658   \n",
       "parental level of education_bachelor's degree                 0.016307   \n",
       "parental level of education_high school                       0.004919   \n",
       "parental level of education_master's degree                  -0.033551   \n",
       "parental level of education_some college                     -0.017751   \n",
       "parental level of education_some high school                  0.073921   \n",
       "\n",
       "                                                race/ethnicity_group B  \\\n",
       "math score                                                   -0.084250   \n",
       "reading score                                                -0.060283   \n",
       "writing score                                                -0.078254   \n",
       "Ismale                                                       -0.028466   \n",
       "standardlunch                                                -0.008257   \n",
       "course_preparation                                            0.000106   \n",
       "race/ethnicity_group A                                       -0.151381   \n",
       "race/ethnicity_group B                                        1.000000   \n",
       "race/ethnicity_group C                                       -0.331479   \n",
       "race/ethnicity_group D                                       -0.288574   \n",
       "race/ethnicity_group E                                       -0.195411   \n",
       "parental level of education_associate's degree               -0.007238   \n",
       "parental level of education_bachelor's degree                -0.019121   \n",
       "parental level of education_high school                       0.069093   \n",
       "parental level of education_master's degree                  -0.056363   \n",
       "parental level of education_some college                     -0.036203   \n",
       "parental level of education_some high school                  0.026531   \n",
       "\n",
       "                                                race/ethnicity_group C  \\\n",
       "math score                                                   -0.073387   \n",
       "reading score                                                -0.003074   \n",
       "writing score                                                -0.010203   \n",
       "Ismale                                                       -0.063368   \n",
       "standardlunch                                                -0.003385   \n",
       "course_preparation                                           -0.012522   \n",
       "race/ethnicity_group A                                       -0.213923   \n",
       "race/ethnicity_group B                                       -0.331479   \n",
       "race/ethnicity_group C                                        1.000000   \n",
       "race/ethnicity_group D                                       -0.407797   \n",
       "race/ethnicity_group E                                       -0.276145   \n",
       "parental level of education_associate's degree                0.037077   \n",
       "parental level of education_bachelor's degree                 0.015682   \n",
       "parental level of education_high school                       0.007977   \n",
       "parental level of education_master's degree                   0.001630   \n",
       "parental level of education_some college                     -0.015872   \n",
       "parental level of education_some high school                 -0.045339   \n",
       "\n",
       "                                                race/ethnicity_group D  \\\n",
       "math score                                                    0.050071   \n",
       "reading score                                                 0.035177   \n",
       "writing score                                                 0.082032   \n",
       "Ismale                                                        0.030566   \n",
       "standardlunch                                                -0.009458   \n",
       "course_preparation                                            0.055956   \n",
       "race/ethnicity_group A                                       -0.186234   \n",
       "race/ethnicity_group B                                       -0.288574   \n",
       "race/ethnicity_group C                                       -0.407797   \n",
       "race/ethnicity_group D                                        1.000000   \n",
       "race/ethnicity_group E                                       -0.240402   \n",
       "parental level of education_associate's degree               -0.044674   \n",
       "parental level of education_bachelor's degree                -0.020556   \n",
       "parental level of education_high school                      -0.042118   \n",
       "parental level of education_master's degree                   0.072793   \n",
       "parental level of education_some college                      0.042347   \n",
       "parental level of education_some high school                  0.018402   \n",
       "\n",
       "                                                race/ethnicity_group E  \\\n",
       "math score                                                    0.205855   \n",
       "reading score                                                 0.106712   \n",
       "writing score                                                 0.089077   \n",
       "Ismale                                                        0.020302   \n",
       "standardlunch                                                 0.052398   \n",
       "course_preparation                                           -0.059393   \n",
       "race/ethnicity_group A                                       -0.126110   \n",
       "race/ethnicity_group B                                       -0.195411   \n",
       "race/ethnicity_group C                                       -0.276145   \n",
       "race/ethnicity_group D                                       -0.240402   \n",
       "race/ethnicity_group E                                        1.000000   \n",
       "parental level of education_associate's degree                0.054922   \n",
       "parental level of education_bachelor's degree                 0.013221   \n",
       "parental level of education_high school                      -0.039494   \n",
       "parental level of education_master's degree                  -0.003180   \n",
       "parental level of education_some college                      0.023153   \n",
       "parental level of education_some high school                 -0.053075   \n",
       "\n",
       "                                                parental level of education_associate's degree  \\\n",
       "math score                                                                            0.063228   \n",
       "reading score                                                                         0.064386   \n",
       "writing score                                                                         0.064799   \n",
       "Ismale                                                                               -0.004835   \n",
       "standardlunch                                                                         0.009102   \n",
       "course_preparation                                                                   -0.012668   \n",
       "race/ethnicity_group A                                                               -0.048658   \n",
       "race/ethnicity_group B                                                               -0.007238   \n",
       "race/ethnicity_group C                                                                0.037077   \n",
       "race/ethnicity_group D                                                               -0.044674   \n",
       "race/ethnicity_group E                                                                0.054922   \n",
       "parental level of education_associate's degree                                        1.000000   \n",
       "parental level of education_bachelor's degree                                        -0.195386   \n",
       "parental level of education_high school                                              -0.263746   \n",
       "parental level of education_master's degree                                          -0.133757   \n",
       "parental level of education_some college                                             -0.288649   \n",
       "parental level of education_some high school                                         -0.249426   \n",
       "\n",
       "                                                parental level of education_bachelor's degree  \\\n",
       "math score                                                                           0.079664   \n",
       "reading score                                                                        0.096024   \n",
       "writing score                                                                        0.128297   \n",
       "Ismale                                                                              -0.011638   \n",
       "standardlunch                                                                       -0.013668   \n",
       "course_preparation                                                                  -0.024285   \n",
       "race/ethnicity_group A                                                               0.016307   \n",
       "race/ethnicity_group B                                                              -0.019121   \n",
       "race/ethnicity_group C                                                               0.015682   \n",
       "race/ethnicity_group D                                                              -0.020556   \n",
       "race/ethnicity_group E                                                               0.013221   \n",
       "parental level of education_associate's degree                                      -0.195386   \n",
       "parental level of education_bachelor's degree                                        1.000000   \n",
       "parental level of education_high school                                             -0.180595   \n",
       "parental level of education_master's degree                                         -0.091588   \n",
       "parental level of education_some college                                            -0.197647   \n",
       "parental level of education_some high school                                        -0.170790   \n",
       "\n",
       "                                                parental level of education_high school  \\\n",
       "math score                                                                    -0.128725   \n",
       "reading score                                                                 -0.151068   \n",
       "writing score                                                                 -0.182211   \n",
       "Ismale                                                                         0.037952   \n",
       "standardlunch                                                                 -0.002211   \n",
       "course_preparation                                                             0.074446   \n",
       "race/ethnicity_group A                                                         0.004919   \n",
       "race/ethnicity_group B                                                         0.069093   \n",
       "race/ethnicity_group C                                                         0.007977   \n",
       "race/ethnicity_group D                                                        -0.042118   \n",
       "race/ethnicity_group E                                                        -0.039494   \n",
       "parental level of education_associate's degree                                -0.263746   \n",
       "parental level of education_bachelor's degree                                 -0.180595   \n",
       "parental level of education_high school                                        1.000000   \n",
       "parental level of education_master's degree                                   -0.123632   \n",
       "parental level of education_some college                                      -0.266799   \n",
       "parental level of education_some high school                                  -0.230545   \n",
       "\n",
       "                                                parental level of education_master's degree  \\\n",
       "math score                                                                         0.060417   \n",
       "reading score                                                                      0.106452   \n",
       "writing score                                                                      0.125693   \n",
       "Ismale                                                                            -0.046188   \n",
       "standardlunch                                                                     -0.027095   \n",
       "course_preparation                                                                 0.009933   \n",
       "race/ethnicity_group A                                                            -0.033551   \n",
       "race/ethnicity_group B                                                            -0.056363   \n",
       "race/ethnicity_group C                                                             0.001630   \n",
       "race/ethnicity_group D                                                             0.072793   \n",
       "race/ethnicity_group E                                                            -0.003180   \n",
       "parental level of education_associate's degree                                    -0.133757   \n",
       "parental level of education_bachelor's degree                                     -0.091588   \n",
       "parental level of education_high school                                           -0.123632   \n",
       "parental level of education_master's degree                                        1.000000   \n",
       "parental level of education_some college                                          -0.135305   \n",
       "parental level of education_some high school                                      -0.116919   \n",
       "\n",
       "                                                parental level of education_some college  \\\n",
       "math score                                                                      0.037056   \n",
       "reading score                                                                   0.010782   \n",
       "writing score                                                                   0.027989   \n",
       "Ismale                                                                         -0.004460   \n",
       "standardlunch                                                                   0.006146   \n",
       "course_preparation                                                              0.019490   \n",
       "race/ethnicity_group A                                                         -0.017751   \n",
       "race/ethnicity_group B                                                         -0.036203   \n",
       "race/ethnicity_group C                                                         -0.015872   \n",
       "race/ethnicity_group D                                                          0.042347   \n",
       "race/ethnicity_group E                                                          0.023153   \n",
       "parental level of education_associate's degree                                 -0.288649   \n",
       "parental level of education_bachelor's degree                                  -0.197647   \n",
       "parental level of education_high school                                        -0.266799   \n",
       "parental level of education_master's degree                                    -0.135305   \n",
       "parental level of education_some college                                        1.000000   \n",
       "parental level of education_some high school                                   -0.252312   \n",
       "\n",
       "                                                parental level of education_some high school  \n",
       "math score                                                                         -0.079852  \n",
       "reading score                                                                      -0.071369  \n",
       "writing score                                                                      -0.097326  \n",
       "Ismale                                                                              0.008990  \n",
       "standardlunch                                                                       0.013874  \n",
       "course_preparation                                                                 -0.070289  \n",
       "race/ethnicity_group A                                                              0.073921  \n",
       "race/ethnicity_group B                                                              0.026531  \n",
       "race/ethnicity_group C                                                             -0.045339  \n",
       "race/ethnicity_group D                                                              0.018402  \n",
       "race/ethnicity_group E                                                             -0.053075  \n",
       "parental level of education_associate's degree                                     -0.249426  \n",
       "parental level of education_bachelor's degree                                      -0.170790  \n",
       "parental level of education_high school                                            -0.230545  \n",
       "parental level of education_master's degree                                        -0.116919  \n",
       "parental level of education_some college                                           -0.252312  \n",
       "parental level of education_some high school                                        1.000000  "
      ]
     },
     "execution_count": 22,
     "metadata": {},
     "output_type": "execute_result"
    }
   ],
   "source": [
    "df.corr()"
   ]
  },
  {
   "cell_type": "code",
   "execution_count": 23,
   "metadata": {},
   "outputs": [],
   "source": [
    "X = df.iloc[:,3:]"
   ]
  },
  {
   "cell_type": "code",
   "execution_count": 24,
   "metadata": {},
   "outputs": [
    {
     "data": {
      "text/html": [
       "<div>\n",
       "<style scoped>\n",
       "    .dataframe tbody tr th:only-of-type {\n",
       "        vertical-align: middle;\n",
       "    }\n",
       "\n",
       "    .dataframe tbody tr th {\n",
       "        vertical-align: top;\n",
       "    }\n",
       "\n",
       "    .dataframe thead th {\n",
       "        text-align: right;\n",
       "    }\n",
       "</style>\n",
       "<table border=\"1\" class=\"dataframe\">\n",
       "  <thead>\n",
       "    <tr style=\"text-align: right;\">\n",
       "      <th></th>\n",
       "      <th>Ismale</th>\n",
       "      <th>standardlunch</th>\n",
       "      <th>course_preparation</th>\n",
       "      <th>race/ethnicity_group A</th>\n",
       "      <th>race/ethnicity_group B</th>\n",
       "      <th>race/ethnicity_group C</th>\n",
       "      <th>race/ethnicity_group D</th>\n",
       "      <th>race/ethnicity_group E</th>\n",
       "      <th>parental level of education_associate's degree</th>\n",
       "      <th>parental level of education_bachelor's degree</th>\n",
       "      <th>parental level of education_high school</th>\n",
       "      <th>parental level of education_master's degree</th>\n",
       "      <th>parental level of education_some college</th>\n",
       "      <th>parental level of education_some high school</th>\n",
       "    </tr>\n",
       "  </thead>\n",
       "  <tbody>\n",
       "    <tr>\n",
       "      <th>0</th>\n",
       "      <td>0</td>\n",
       "      <td>1</td>\n",
       "      <td>1</td>\n",
       "      <td>0</td>\n",
       "      <td>1</td>\n",
       "      <td>0</td>\n",
       "      <td>0</td>\n",
       "      <td>0</td>\n",
       "      <td>0</td>\n",
       "      <td>1</td>\n",
       "      <td>0</td>\n",
       "      <td>0</td>\n",
       "      <td>0</td>\n",
       "      <td>0</td>\n",
       "    </tr>\n",
       "    <tr>\n",
       "      <th>1</th>\n",
       "      <td>0</td>\n",
       "      <td>1</td>\n",
       "      <td>0</td>\n",
       "      <td>0</td>\n",
       "      <td>0</td>\n",
       "      <td>1</td>\n",
       "      <td>0</td>\n",
       "      <td>0</td>\n",
       "      <td>0</td>\n",
       "      <td>0</td>\n",
       "      <td>0</td>\n",
       "      <td>0</td>\n",
       "      <td>1</td>\n",
       "      <td>0</td>\n",
       "    </tr>\n",
       "    <tr>\n",
       "      <th>2</th>\n",
       "      <td>0</td>\n",
       "      <td>1</td>\n",
       "      <td>1</td>\n",
       "      <td>0</td>\n",
       "      <td>1</td>\n",
       "      <td>0</td>\n",
       "      <td>0</td>\n",
       "      <td>0</td>\n",
       "      <td>0</td>\n",
       "      <td>0</td>\n",
       "      <td>0</td>\n",
       "      <td>1</td>\n",
       "      <td>0</td>\n",
       "      <td>0</td>\n",
       "    </tr>\n",
       "    <tr>\n",
       "      <th>3</th>\n",
       "      <td>1</td>\n",
       "      <td>0</td>\n",
       "      <td>1</td>\n",
       "      <td>1</td>\n",
       "      <td>0</td>\n",
       "      <td>0</td>\n",
       "      <td>0</td>\n",
       "      <td>0</td>\n",
       "      <td>1</td>\n",
       "      <td>0</td>\n",
       "      <td>0</td>\n",
       "      <td>0</td>\n",
       "      <td>0</td>\n",
       "      <td>0</td>\n",
       "    </tr>\n",
       "    <tr>\n",
       "      <th>4</th>\n",
       "      <td>1</td>\n",
       "      <td>1</td>\n",
       "      <td>1</td>\n",
       "      <td>0</td>\n",
       "      <td>0</td>\n",
       "      <td>1</td>\n",
       "      <td>0</td>\n",
       "      <td>0</td>\n",
       "      <td>0</td>\n",
       "      <td>0</td>\n",
       "      <td>0</td>\n",
       "      <td>0</td>\n",
       "      <td>1</td>\n",
       "      <td>0</td>\n",
       "    </tr>\n",
       "    <tr>\n",
       "      <th>...</th>\n",
       "      <td>...</td>\n",
       "      <td>...</td>\n",
       "      <td>...</td>\n",
       "      <td>...</td>\n",
       "      <td>...</td>\n",
       "      <td>...</td>\n",
       "      <td>...</td>\n",
       "      <td>...</td>\n",
       "      <td>...</td>\n",
       "      <td>...</td>\n",
       "      <td>...</td>\n",
       "      <td>...</td>\n",
       "      <td>...</td>\n",
       "      <td>...</td>\n",
       "    </tr>\n",
       "    <tr>\n",
       "      <th>995</th>\n",
       "      <td>0</td>\n",
       "      <td>1</td>\n",
       "      <td>0</td>\n",
       "      <td>0</td>\n",
       "      <td>0</td>\n",
       "      <td>0</td>\n",
       "      <td>0</td>\n",
       "      <td>1</td>\n",
       "      <td>0</td>\n",
       "      <td>0</td>\n",
       "      <td>0</td>\n",
       "      <td>1</td>\n",
       "      <td>0</td>\n",
       "      <td>0</td>\n",
       "    </tr>\n",
       "    <tr>\n",
       "      <th>996</th>\n",
       "      <td>1</td>\n",
       "      <td>0</td>\n",
       "      <td>1</td>\n",
       "      <td>0</td>\n",
       "      <td>0</td>\n",
       "      <td>1</td>\n",
       "      <td>0</td>\n",
       "      <td>0</td>\n",
       "      <td>0</td>\n",
       "      <td>0</td>\n",
       "      <td>1</td>\n",
       "      <td>0</td>\n",
       "      <td>0</td>\n",
       "      <td>0</td>\n",
       "    </tr>\n",
       "    <tr>\n",
       "      <th>997</th>\n",
       "      <td>0</td>\n",
       "      <td>0</td>\n",
       "      <td>0</td>\n",
       "      <td>0</td>\n",
       "      <td>0</td>\n",
       "      <td>1</td>\n",
       "      <td>0</td>\n",
       "      <td>0</td>\n",
       "      <td>0</td>\n",
       "      <td>0</td>\n",
       "      <td>1</td>\n",
       "      <td>0</td>\n",
       "      <td>0</td>\n",
       "      <td>0</td>\n",
       "    </tr>\n",
       "    <tr>\n",
       "      <th>998</th>\n",
       "      <td>0</td>\n",
       "      <td>1</td>\n",
       "      <td>0</td>\n",
       "      <td>0</td>\n",
       "      <td>0</td>\n",
       "      <td>0</td>\n",
       "      <td>1</td>\n",
       "      <td>0</td>\n",
       "      <td>0</td>\n",
       "      <td>0</td>\n",
       "      <td>0</td>\n",
       "      <td>0</td>\n",
       "      <td>1</td>\n",
       "      <td>0</td>\n",
       "    </tr>\n",
       "    <tr>\n",
       "      <th>999</th>\n",
       "      <td>0</td>\n",
       "      <td>0</td>\n",
       "      <td>1</td>\n",
       "      <td>0</td>\n",
       "      <td>0</td>\n",
       "      <td>0</td>\n",
       "      <td>1</td>\n",
       "      <td>0</td>\n",
       "      <td>0</td>\n",
       "      <td>0</td>\n",
       "      <td>0</td>\n",
       "      <td>0</td>\n",
       "      <td>1</td>\n",
       "      <td>0</td>\n",
       "    </tr>\n",
       "  </tbody>\n",
       "</table>\n",
       "<p>1000 rows × 14 columns</p>\n",
       "</div>"
      ],
      "text/plain": [
       "     Ismale  standardlunch  course_preparation  race/ethnicity_group A  \\\n",
       "0         0              1                   1                       0   \n",
       "1         0              1                   0                       0   \n",
       "2         0              1                   1                       0   \n",
       "3         1              0                   1                       1   \n",
       "4         1              1                   1                       0   \n",
       "..      ...            ...                 ...                     ...   \n",
       "995       0              1                   0                       0   \n",
       "996       1              0                   1                       0   \n",
       "997       0              0                   0                       0   \n",
       "998       0              1                   0                       0   \n",
       "999       0              0                   1                       0   \n",
       "\n",
       "     race/ethnicity_group B  race/ethnicity_group C  race/ethnicity_group D  \\\n",
       "0                         1                       0                       0   \n",
       "1                         0                       1                       0   \n",
       "2                         1                       0                       0   \n",
       "3                         0                       0                       0   \n",
       "4                         0                       1                       0   \n",
       "..                      ...                     ...                     ...   \n",
       "995                       0                       0                       0   \n",
       "996                       0                       1                       0   \n",
       "997                       0                       1                       0   \n",
       "998                       0                       0                       1   \n",
       "999                       0                       0                       1   \n",
       "\n",
       "     race/ethnicity_group E  parental level of education_associate's degree  \\\n",
       "0                         0                                               0   \n",
       "1                         0                                               0   \n",
       "2                         0                                               0   \n",
       "3                         0                                               1   \n",
       "4                         0                                               0   \n",
       "..                      ...                                             ...   \n",
       "995                       1                                               0   \n",
       "996                       0                                               0   \n",
       "997                       0                                               0   \n",
       "998                       0                                               0   \n",
       "999                       0                                               0   \n",
       "\n",
       "     parental level of education_bachelor's degree  \\\n",
       "0                                                1   \n",
       "1                                                0   \n",
       "2                                                0   \n",
       "3                                                0   \n",
       "4                                                0   \n",
       "..                                             ...   \n",
       "995                                              0   \n",
       "996                                              0   \n",
       "997                                              0   \n",
       "998                                              0   \n",
       "999                                              0   \n",
       "\n",
       "     parental level of education_high school  \\\n",
       "0                                          0   \n",
       "1                                          0   \n",
       "2                                          0   \n",
       "3                                          0   \n",
       "4                                          0   \n",
       "..                                       ...   \n",
       "995                                        0   \n",
       "996                                        1   \n",
       "997                                        1   \n",
       "998                                        0   \n",
       "999                                        0   \n",
       "\n",
       "     parental level of education_master's degree  \\\n",
       "0                                              0   \n",
       "1                                              0   \n",
       "2                                              1   \n",
       "3                                              0   \n",
       "4                                              0   \n",
       "..                                           ...   \n",
       "995                                            1   \n",
       "996                                            0   \n",
       "997                                            0   \n",
       "998                                            0   \n",
       "999                                            0   \n",
       "\n",
       "     parental level of education_some college  \\\n",
       "0                                           0   \n",
       "1                                           1   \n",
       "2                                           0   \n",
       "3                                           0   \n",
       "4                                           1   \n",
       "..                                        ...   \n",
       "995                                         0   \n",
       "996                                         0   \n",
       "997                                         0   \n",
       "998                                         1   \n",
       "999                                         1   \n",
       "\n",
       "     parental level of education_some high school  \n",
       "0                                               0  \n",
       "1                                               0  \n",
       "2                                               0  \n",
       "3                                               0  \n",
       "4                                               0  \n",
       "..                                            ...  \n",
       "995                                             0  \n",
       "996                                             0  \n",
       "997                                             0  \n",
       "998                                             0  \n",
       "999                                             0  \n",
       "\n",
       "[1000 rows x 14 columns]"
      ]
     },
     "execution_count": 24,
     "metadata": {},
     "output_type": "execute_result"
    }
   ],
   "source": [
    "X"
   ]
  },
  {
   "cell_type": "code",
   "execution_count": 25,
   "metadata": {},
   "outputs": [],
   "source": [
    "y1=df['math score']"
   ]
  },
  {
   "cell_type": "code",
   "execution_count": 26,
   "metadata": {},
   "outputs": [],
   "source": [
    "from sklearn.model_selection import train_test_split\n",
    "\n",
    "X_train, X_test, y_train, y_test=train_test_split(X, y1, test_size=0.2, random_state=0)"
   ]
  },
  {
   "cell_type": "code",
   "execution_count": 27,
   "metadata": {},
   "outputs": [
    {
     "data": {
      "text/plain": [
       "(800, 14)"
      ]
     },
     "execution_count": 27,
     "metadata": {},
     "output_type": "execute_result"
    }
   ],
   "source": [
    "X_train.shape"
   ]
  },
  {
   "cell_type": "code",
   "execution_count": 28,
   "metadata": {},
   "outputs": [
    {
     "data": {
      "text/plain": [
       "(200, 14)"
      ]
     },
     "execution_count": 28,
     "metadata": {},
     "output_type": "execute_result"
    }
   ],
   "source": [
    "X_test.shape"
   ]
  },
  {
   "cell_type": "code",
   "execution_count": 29,
   "metadata": {},
   "outputs": [
    {
     "data": {
      "text/plain": [
       "(800,)"
      ]
     },
     "execution_count": 29,
     "metadata": {},
     "output_type": "execute_result"
    }
   ],
   "source": [
    "y_train.shape"
   ]
  },
  {
   "cell_type": "code",
   "execution_count": 30,
   "metadata": {},
   "outputs": [
    {
     "data": {
      "text/plain": [
       "(200,)"
      ]
     },
     "execution_count": 30,
     "metadata": {},
     "output_type": "execute_result"
    }
   ],
   "source": [
    "y_test.shape"
   ]
  },
  {
   "cell_type": "code",
   "execution_count": 31,
   "metadata": {},
   "outputs": [],
   "source": [
    "from sklearn.svm import SVR\n"
   ]
  },
  {
   "cell_type": "code",
   "execution_count": 32,
   "metadata": {},
   "outputs": [],
   "source": [
    "reg = SVR()\n",
    "reg.fit(X_train,y_train)\n",
    "y_pred= reg.predict(X_test)\n"
   ]
  },
  {
   "cell_type": "code",
   "execution_count": 33,
   "metadata": {},
   "outputs": [],
   "source": [
    "from sklearn.metrics import classification_report,mean_absolute_error,r2_score,mean_squared_error"
   ]
  },
  {
   "cell_type": "code",
   "execution_count": 34,
   "metadata": {},
   "outputs": [
    {
     "data": {
      "text/plain": [
       "(200,)"
      ]
     },
     "execution_count": 34,
     "metadata": {},
     "output_type": "execute_result"
    }
   ],
   "source": [
    "y_pred.shape"
   ]
  },
  {
   "cell_type": "code",
   "execution_count": 35,
   "metadata": {},
   "outputs": [
    {
     "data": {
      "text/plain": [
       "(200,)"
      ]
     },
     "execution_count": 35,
     "metadata": {},
     "output_type": "execute_result"
    }
   ],
   "source": [
    "y_test.shape"
   ]
  },
  {
   "cell_type": "code",
   "execution_count": 36,
   "metadata": {},
   "outputs": [
    {
     "data": {
      "text/plain": [
       "181.0817713169542"
      ]
     },
     "execution_count": 36,
     "metadata": {},
     "output_type": "execute_result"
    }
   ],
   "source": [
    "mean_squared_error(y_pred,y_test)"
   ]
  },
  {
   "cell_type": "code",
   "execution_count": 37,
   "metadata": {},
   "outputs": [],
   "source": [
    "y_test_mean= np.full(len(y_test), y_test.mean())\n"
   ]
  },
  {
   "cell_type": "code",
   "execution_count": 38,
   "metadata": {},
   "outputs": [
    {
     "data": {
      "text/plain": [
       "65.72"
      ]
     },
     "execution_count": 38,
     "metadata": {},
     "output_type": "execute_result"
    }
   ],
   "source": [
    "y_test.mean()"
   ]
  },
  {
   "cell_type": "code",
   "execution_count": 39,
   "metadata": {},
   "outputs": [
    {
     "data": {
      "text/plain": [
       "0.0"
      ]
     },
     "execution_count": 39,
     "metadata": {},
     "output_type": "execute_result"
    }
   ],
   "source": [
    "r2_score(y_test, y_test_mean)"
   ]
  },
  {
   "cell_type": "code",
   "execution_count": 40,
   "metadata": {},
   "outputs": [
    {
     "data": {
      "text/plain": [
       "0.20088043810390488"
      ]
     },
     "execution_count": 40,
     "metadata": {},
     "output_type": "execute_result"
    }
   ],
   "source": [
    "r2_score(y_test,y_pred)\n"
   ]
  },
  {
   "cell_type": "code",
   "execution_count": 41,
   "metadata": {},
   "outputs": [
    {
     "data": {
      "text/plain": [
       "10.741442568291045"
      ]
     },
     "execution_count": 41,
     "metadata": {},
     "output_type": "execute_result"
    }
   ],
   "source": [
    "mean_absolute_error(y_test,y_pred)"
   ]
  },
  {
   "cell_type": "code",
   "execution_count": 42,
   "metadata": {},
   "outputs": [
    {
     "data": {
      "text/plain": [
       "181.0817713169542"
      ]
     },
     "execution_count": 42,
     "metadata": {},
     "output_type": "execute_result"
    }
   ],
   "source": [
    "mean_squared_error(y_test,y_pred)"
   ]
  },
  {
   "cell_type": "code",
   "execution_count": 43,
   "metadata": {},
   "outputs": [],
   "source": [
    "from sklearn.ensemble import RandomForestRegressor"
   ]
  },
  {
   "cell_type": "code",
   "execution_count": 44,
   "metadata": {},
   "outputs": [],
   "source": [
    "model = RandomForestRegressor(n_estimators= 50)"
   ]
  },
  {
   "cell_type": "code",
   "execution_count": 45,
   "metadata": {},
   "outputs": [
    {
     "data": {
      "text/plain": [
       "RandomForestRegressor(n_estimators=50)"
      ]
     },
     "execution_count": 45,
     "metadata": {},
     "output_type": "execute_result"
    }
   ],
   "source": [
    "model.fit(X_train,y_train)"
   ]
  },
  {
   "cell_type": "markdown",
   "metadata": {},
   "source": []
  },
  {
   "cell_type": "code",
   "execution_count": 46,
   "metadata": {},
   "outputs": [],
   "source": [
    "y_pred=model.predict(X_test)"
   ]
  },
  {
   "cell_type": "code",
   "execution_count": 47,
   "metadata": {},
   "outputs": [
    {
     "data": {
      "text/plain": [
       "0.06533669314171697"
      ]
     },
     "execution_count": 47,
     "metadata": {},
     "output_type": "execute_result"
    }
   ],
   "source": [
    "r2_score(y_test,y_pred)\n"
   ]
  },
  {
   "cell_type": "code",
   "execution_count": 48,
   "metadata": {},
   "outputs": [],
   "source": [
    "from sklearn.linear_model import LinearRegression"
   ]
  },
  {
   "cell_type": "code",
   "execution_count": 49,
   "metadata": {},
   "outputs": [],
   "source": [
    "ln = LinearRegression()"
   ]
  },
  {
   "cell_type": "code",
   "execution_count": 50,
   "metadata": {},
   "outputs": [
    {
     "data": {
      "text/plain": [
       "LinearRegression()"
      ]
     },
     "execution_count": 50,
     "metadata": {},
     "output_type": "execute_result"
    }
   ],
   "source": [
    "ln.fit(X_train,y_train)"
   ]
  },
  {
   "cell_type": "code",
   "execution_count": 51,
   "metadata": {},
   "outputs": [],
   "source": [
    "y_pred = ln.predict(X_test)"
   ]
  },
  {
   "cell_type": "code",
   "execution_count": 52,
   "metadata": {},
   "outputs": [
    {
     "data": {
      "text/plain": [
       "0.24499098858966573"
      ]
     },
     "execution_count": 52,
     "metadata": {},
     "output_type": "execute_result"
    }
   ],
   "source": [
    "r2_score(y_test,y_pred)"
   ]
  },
  {
   "cell_type": "code",
   "execution_count": null,
   "metadata": {},
   "outputs": [],
   "source": []
  }
 ],
 "metadata": {
  "kernelspec": {
   "display_name": "Python 3",
   "language": "python",
   "name": "python3"
  },
  "language_info": {
   "codemirror_mode": {
    "name": "ipython",
    "version": 3
   },
   "file_extension": ".py",
   "mimetype": "text/x-python",
   "name": "python",
   "nbconvert_exporter": "python",
   "pygments_lexer": "ipython3",
   "version": "3.8.5"
  }
 },
 "nbformat": 4,
 "nbformat_minor": 4
}
